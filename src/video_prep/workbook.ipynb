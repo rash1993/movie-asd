{
 "cells": [
  {
   "cell_type": "code",
   "execution_count": 1,
   "metadata": {},
   "outputs": [
    {
     "data": {
      "text/plain": [
       "['pyannote/overlapped-speech-detection',\n",
       " 'pyannote/speaker-diarization',\n",
       " 'pyannote/speaker-segmentation',\n",
       " 'pyannote/voice-activity-detection']"
      ]
     },
     "execution_count": 1,
     "metadata": {},
     "output_type": "execute_result"
    }
   ],
   "source": [
    "from huggingface_hub import HfApi\n",
    "available_pipelines = [p.modelId for p in HfApi().list_models(filter=\"pyannote-audio-pipeline\")]\n",
    "list(filter(lambda p: p.startswith(\"pyannote/\"), available_pipelines))"
   ]
  },
  {
   "cell_type": "code",
   "execution_count": 4,
   "metadata": {},
   "outputs": [
    {
     "data": {
      "application/vnd.jupyter.widget-view+json": {
       "model_id": "8b47965cb67044bda5d572762f87f97e",
       "version_major": 2,
       "version_minor": 0
      },
      "text/plain": [
       "Downloading (…)lve/main/config.yaml:   0%|          | 0.00/277 [00:00<?, ?B/s]"
      ]
     },
     "metadata": {},
     "output_type": "display_data"
    },
    {
     "data": {
      "application/vnd.jupyter.widget-view+json": {
       "model_id": "dd9bf88b14e743f8b622fb04f575d818",
       "version_major": 2,
       "version_minor": 0
      },
      "text/plain": [
       "Downloading pytorch_model.bin:   0%|          | 0.00/17.7M [00:00<?, ?B/s]"
      ]
     },
     "metadata": {},
     "output_type": "display_data"
    },
    {
     "data": {
      "application/vnd.jupyter.widget-view+json": {
       "model_id": "6aa9d2afa63e4bf690b26187720033cd",
       "version_major": 2,
       "version_minor": 0
      },
      "text/plain": [
       "Downloading (…)eech2021/config.yaml:   0%|          | 0.00/1.98k [00:00<?, ?B/s]"
      ]
     },
     "metadata": {},
     "output_type": "display_data"
    },
    {
     "name": "stderr",
     "output_type": "stream",
     "text": [
      "Lightning automatically upgraded your loaded checkpoint from v1.1.3 to v2.0.6. To apply the upgrade to your files permanently, run `python -m pytorch_lightning.utilities.upgrade_checkpoint --file ../../../../../../../../../../../../home/azureuser/.cache/torch/pyannote/models--pyannote--segmentation/snapshots/059e96f964841d40f1a5e755bb7223f76666bba4/pytorch_model.bin`\n"
     ]
    },
    {
     "name": "stdout",
     "output_type": "stream",
     "text": [
      "Model was trained with pyannote.audio 0.0.1, yours is 2.1.1. Bad things might happen unless you revert pyannote.audio to 0.x.\n",
      "Model was trained with torch 1.7.1, yours is 2.0.1+cu117. Bad things might happen unless you revert torch to 1.x.\n"
     ]
    }
   ],
   "source": []
  },
  {
   "cell_type": "code",
   "execution_count": 2,
   "metadata": {},
   "outputs": [
    {
     "data": {
      "application/vnd.jupyter.widget-view+json": {
       "model_id": "585ef98402df457988cf1481d827089f",
       "version_major": 2,
       "version_minor": 0
      },
      "text/plain": [
       "VBox(children=(HTML(value='<center> <img\\nsrc=https://huggingface.co/front/assets/huggingface_logo-noborder.sv…"
      ]
     },
     "metadata": {},
     "output_type": "display_data"
    }
   ],
   "source": [
    "from huggingface_hub import notebook_login\n",
    "notebook_login()"
   ]
  },
  {
   "cell_type": "code",
   "execution_count": 14,
   "metadata": {},
   "outputs": [
    {
     "name": "stderr",
     "output_type": "stream",
     "text": [
      "Lightning automatically upgraded your loaded checkpoint from v1.1.3 to v2.0.6. To apply the upgrade to your files permanently, run `python -m pytorch_lightning.utilities.upgrade_checkpoint --file ../../../../../../../../../../../../home/azureuser/.cache/torch/pyannote/models--pyannote--segmentation/snapshots/059e96f964841d40f1a5e755bb7223f76666bba4/pytorch_model.bin`\n"
     ]
    },
    {
     "name": "stdout",
     "output_type": "stream",
     "text": [
      "Model was trained with pyannote.audio 0.0.1, yours is 2.1.1. Bad things might happen unless you revert pyannote.audio to 0.x.\n",
      "Model was trained with torch 1.7.1, yours is 2.0.1+cu117. Bad things might happen unless you revert torch to 1.x.\n",
      "[[ 0.86177474  9.08703072]\n",
      " [ 9.80375427 14.46245734]\n",
      " [14.65017065 30.00853242]]\n"
     ]
    }
   ],
   "source": [
    "from pyannote.audio import Pipeline\n",
    "pipeline = Pipeline.from_pretrained(\"pyannote/voice-activity-detection\", use_auth_token=True)\n",
    "import numpy as np\n",
    "vad_pipe = pipeline('../../../cache/tsample3/audio.wav')\n",
    "# HYPER_PARAMETERS = {\"onset\": 0.767,\n",
    "#                             \"offset\": 0.713,\n",
    "#                             \"min_duration_on\": 0.182,\n",
    "#                             \"min_duration_off\": 0.501}\n",
    "pipeline.instantiate(HYPER_PARAMETERS)\n",
    "vad = [[d.start, d.end] for d in vad_pipe.get_timeline()]\n",
    "vad.sort(key=lambda x: x[0])\n",
    "vad = np.array(vad)\n",
    "print(vad)"
   ]
  },
  {
   "cell_type": "code",
   "execution_count": 13,
   "metadata": {},
   "outputs": [
    {
     "ename": "AttributeError",
     "evalue": "'Annotation' object has no attribute 'HYPER_PARAMETERS'",
     "output_type": "error",
     "traceback": [
      "\u001b[0;31m---------------------------------------------------------------------------\u001b[0m",
      "\u001b[0;31mAttributeError\u001b[0m                            Traceback (most recent call last)",
      "Cell \u001b[0;32mIn[13], line 1\u001b[0m\n\u001b[0;32m----> 1\u001b[0m vad_pipe\u001b[39m.\u001b[39;49mHYPER_PARAMETERS\n",
      "\u001b[0;31mAttributeError\u001b[0m: 'Annotation' object has no attribute 'HYPER_PARAMETERS'"
     ]
    }
   ],
   "source": [
    "vad_pipe.HYPER_PARAMETERS"
   ]
  },
  {
   "cell_type": "code",
   "execution_count": 16,
   "metadata": {},
   "outputs": [
    {
     "data": {
      "application/vnd.jupyter.widget-view+json": {
       "model_id": "4492fe7bf92645c78d5300f0750deda5",
       "version_major": 2,
       "version_minor": 0
      },
      "text/plain": [
       "Downloading (…)ain/hyperparams.yaml:   0%|          | 0.00/1.92k [00:00<?, ?B/s]"
      ]
     },
     "metadata": {},
     "output_type": "display_data"
    },
    {
     "data": {
      "application/vnd.jupyter.widget-view+json": {
       "model_id": "105da2b36919469f819bfbd34b4274b2",
       "version_major": 2,
       "version_minor": 0
      },
      "text/plain": [
       "Downloading embedding_model.ckpt:   0%|          | 0.00/83.3M [00:00<?, ?B/s]"
      ]
     },
     "metadata": {},
     "output_type": "display_data"
    },
    {
     "data": {
      "application/vnd.jupyter.widget-view+json": {
       "model_id": "5f07275613f149518eb8089aee89a866",
       "version_major": 2,
       "version_minor": 0
      },
      "text/plain": [
       "Downloading (…)an_var_norm_emb.ckpt:   0%|          | 0.00/1.92k [00:00<?, ?B/s]"
      ]
     },
     "metadata": {},
     "output_type": "display_data"
    },
    {
     "data": {
      "application/vnd.jupyter.widget-view+json": {
       "model_id": "e21a7a4d20674b64a7dcb21d0c41f08b",
       "version_major": 2,
       "version_minor": 0
      },
      "text/plain": [
       "Downloading classifier.ckpt:   0%|          | 0.00/5.53M [00:00<?, ?B/s]"
      ]
     },
     "metadata": {},
     "output_type": "display_data"
    },
    {
     "data": {
      "application/vnd.jupyter.widget-view+json": {
       "model_id": "f4ef76ccd4c74d30a3938658cb8d24e1",
       "version_major": 2,
       "version_minor": 0
      },
      "text/plain": [
       "Downloading (…)in/label_encoder.txt:   0%|          | 0.00/129k [00:00<?, ?B/s]"
      ]
     },
     "metadata": {},
     "output_type": "display_data"
    }
   ],
   "source": [
    "import torch\n",
    "from pyannote.audio.pipelines.speaker_verification import PretrainedSpeakerEmbedding\n",
    "model = PretrainedSpeakerEmbedding(\"speechbrain/spkrec-ecapa-voxceleb\",device=torch.device(\"cuda\"))"
   ]
  },
  {
   "cell_type": "code",
   "execution_count": 23,
   "metadata": {},
   "outputs": [],
   "source": [
    "from pyannote.audio import Audio\n",
    "from pyannote.core import Segment\n",
    "audio = Audio(sample_rate=16000, mono=\"downmix\")\n",
    "from scipy.spatial.distance import cdist\n",
    "import numpy as np\n",
    "\n",
    "embeddings = []\n",
    "for i in range(10):\n",
    "    speaker1 = Segment(i, i+1)\n",
    "    waveform1, sample_rate = audio.crop(\"../../../cache/tsample3/audio.wav\", speaker1)\n",
    "    embeddings.append(model(waveform1[None]))\n",
    "\n",
    "distances = np.zeros((10, 10))\n",
    "for i in range(10):\n",
    "    for j in range(10):\n",
    "        feati = embeddings[i]\n",
    "        featj = embeddings[j]\n",
    "        "
   ]
  },
  {
   "cell_type": "code",
   "execution_count": 25,
   "metadata": {},
   "outputs": [
    {
     "data": {
      "text/plain": [
       "(1, 192)"
      ]
     },
     "execution_count": 25,
     "metadata": {},
     "output_type": "execute_result"
    }
   ],
   "source": [
    "embedding1.shape"
   ]
  },
  {
   "cell_type": "code",
   "execution_count": 1,
   "metadata": {},
   "outputs": [
    {
     "data": {
      "text/plain": [
       "'/mnt/batch/tasks/shared/LS_root/mounts/clusters/shar7891/code/movie-asd/src/video_prep'"
      ]
     },
     "execution_count": 1,
     "metadata": {},
     "output_type": "execute_result"
    }
   ],
   "source": [
    "pwd"
   ]
  },
  {
   "cell_type": "code",
   "execution_count": 4,
   "metadata": {},
   "outputs": [
    {
     "name": "stdout",
     "output_type": "stream",
     "text": [
      "/mnt/batch/tasks/shared/LS_root/mounts/clusters/shar7891/code\n"
     ]
    }
   ],
   "source": [
    "cd cloudfiles/code"
   ]
  },
  {
   "cell_type": "code",
   "execution_count": 9,
   "metadata": {},
   "outputs": [],
   "source": [
    "import pickle as pkl \n",
    "embeddings = pkl.load(open('/home/azureuser/cloudfiles/code/cache/Friends_s03e01_10min/face_track_embeddings_retinaface.pkl', 'rb'))"
   ]
  },
  {
   "cell_type": "code",
   "execution_count": 12,
   "metadata": {},
   "outputs": [],
   "source": [
    "from scipy.spatial.distance import cosine\n",
    "keys = list(embeddings.keys())\n",
    "keys.sort(key=lambda x: int(x.split('_')[0]*100 + x.split('_')[1]))\n",
    "face_track_distances = np.zeros((len(keys), len(keys)))\n",
    "for i, key in enumerate(keys):\n",
    "    for j, key2 in enumerate(keys):\n",
    "        face_track_distances[i, j] = np.linalg.norm(embeddings[key] - embeddings[key2])"
   ]
  },
  {
   "cell_type": "code",
   "execution_count": 13,
   "metadata": {},
   "outputs": [
    {
     "data": {
      "text/plain": [
       "['0_1',\n",
       " '0_2',\n",
       " '0_3',\n",
       " '0_5',\n",
       " '0_8',\n",
       " '0_10',\n",
       " '0_11',\n",
       " '0_13',\n",
       " '0_14',\n",
       " '0_15',\n",
       " '0_16',\n",
       " '0_17',\n",
       " '0_20',\n",
       " '0_21',\n",
       " '0_22',\n",
       " '0_24',\n",
       " '0_26',\n",
       " '0_27',\n",
       " '0_28',\n",
       " '1_31',\n",
       " '1_32',\n",
       " '1_33',\n",
       " '1_34',\n",
       " '1_35',\n",
       " '1_36',\n",
       " '1_37',\n",
       " '1_38',\n",
       " '1_39',\n",
       " '1_40',\n",
       " '1_41',\n",
       " '1_42',\n",
       " '1_43',\n",
       " '1_44',\n",
       " '1_45',\n",
       " '1_46',\n",
       " '1_47',\n",
       " '1_48',\n",
       " '1_49',\n",
       " '1_50',\n",
       " '1_52',\n",
       " '1_54',\n",
       " '1_59',\n",
       " '1_63',\n",
       " '1_64',\n",
       " '1_66',\n",
       " '2_67',\n",
       " '2_68',\n",
       " '2_69',\n",
       " '2_70',\n",
       " '2_71',\n",
       " '2_72',\n",
       " '2_73',\n",
       " '3_79',\n",
       " '3_80',\n",
       " '3_81',\n",
       " '3_82',\n",
       " '3_83',\n",
       " '3_84',\n",
       " '3_85',\n",
       " '3_86',\n",
       " '3_87',\n",
       " '3_88',\n",
       " '3_89',\n",
       " '3_90',\n",
       " '3_91',\n",
       " '3_95',\n",
       " '3_96',\n",
       " '3_98',\n",
       " '3_99',\n",
       " '3_100',\n",
       " '4_104',\n",
       " '5_105',\n",
       " '6_106',\n",
       " '6_107',\n",
       " '7_109',\n",
       " '8_115',\n",
       " '8_117',\n",
       " '9_122',\n",
       " '9_123',\n",
       " '9_125',\n",
       " '9_126',\n",
       " '10_129',\n",
       " '10_130',\n",
       " '11_133',\n",
       " '11_134',\n",
       " '11_135',\n",
       " '12_136',\n",
       " '12_137',\n",
       " '12_138',\n",
       " '13_139',\n",
       " '13_140',\n",
       " '13_141',\n",
       " '13_144',\n",
       " '13_145',\n",
       " '14_153',\n",
       " '14_154',\n",
       " '15_161',\n",
       " '16_162',\n",
       " '17_163',\n",
       " '18_164',\n",
       " '19_165',\n",
       " '20_166',\n",
       " '21_171',\n",
       " '21_172',\n",
       " '22_173',\n",
       " '23_174',\n",
       " '24_175',\n",
       " '24_178',\n",
       " '24_179',\n",
       " '25_180',\n",
       " '25_181',\n",
       " '26_189',\n",
       " '27_192',\n",
       " '27_193',\n",
       " '27_194',\n",
       " '28_195',\n",
       " '29_196',\n",
       " '30_197',\n",
       " '30_198',\n",
       " '31_200',\n",
       " '31_202',\n",
       " '32_205',\n",
       " '33_206',\n",
       " '34_208',\n",
       " '35_210',\n",
       " '36_211',\n",
       " '37_213',\n",
       " '37_216',\n",
       " '37_220',\n",
       " '38_221',\n",
       " '38_222',\n",
       " '38_223',\n",
       " '39_225',\n",
       " '39_226',\n",
       " '40_227',\n",
       " '40_228',\n",
       " '40_229',\n",
       " '40_230',\n",
       " '40_231',\n",
       " '40_232',\n",
       " '41_233',\n",
       " '42_234',\n",
       " '43_235',\n",
       " '44_236',\n",
       " '44_237',\n",
       " '44_238',\n",
       " '45_239',\n",
       " '46_241',\n",
       " '47_242',\n",
       " '47_243',\n",
       " '47_244',\n",
       " '48_245',\n",
       " '49_246',\n",
       " '50_247',\n",
       " '50_248',\n",
       " '51_249',\n",
       " '52_251',\n",
       " '53_252',\n",
       " '53_253',\n",
       " '53_255',\n",
       " '53_256',\n",
       " '53_257',\n",
       " '53_258',\n",
       " '53_259',\n",
       " '53_260',\n",
       " '53_261',\n",
       " '54_262',\n",
       " '54_264',\n",
       " '54_267',\n",
       " '55_271',\n",
       " '56_273',\n",
       " '57_275',\n",
       " '57_276',\n",
       " '57_278',\n",
       " '57_279',\n",
       " '57_281',\n",
       " '57_282',\n",
       " '57_291',\n",
       " '57_294',\n",
       " '57_295',\n",
       " '58_298',\n",
       " '59_299',\n",
       " '60_300',\n",
       " '60_301',\n",
       " '60_302',\n",
       " '61_303',\n",
       " '61_304',\n",
       " '62_305',\n",
       " '63_306',\n",
       " '63_307',\n",
       " '63_308',\n",
       " '63_309',\n",
       " '63_310',\n",
       " '63_312',\n",
       " '63_314',\n",
       " '63_315',\n",
       " '64_317',\n",
       " '64_318',\n",
       " '64_319',\n",
       " '64_320',\n",
       " '65_322',\n",
       " '65_323',\n",
       " '65_325',\n",
       " '65_326',\n",
       " '65_329',\n",
       " '66_330',\n",
       " '66_331',\n",
       " '67_332',\n",
       " '67_333',\n",
       " '67_335',\n",
       " '68_336',\n",
       " '69_337',\n",
       " '69_338',\n",
       " '70_339',\n",
       " '71_340',\n",
       " '71_343',\n",
       " '72_345',\n",
       " '73_346',\n",
       " '73_349',\n",
       " '74_351',\n",
       " '74_352',\n",
       " '74_353',\n",
       " '75_357',\n",
       " '76_358',\n",
       " '77_359',\n",
       " '77_360',\n",
       " '78_362',\n",
       " '78_363',\n",
       " '79_364',\n",
       " '79_365',\n",
       " '80_366',\n",
       " '80_367',\n",
       " '81_368',\n",
       " '81_369',\n",
       " '81_374',\n",
       " '81_384',\n",
       " '82_385',\n",
       " '83_386',\n",
       " '83_387',\n",
       " '83_388',\n",
       " '84_389',\n",
       " '84_390',\n",
       " '84_391',\n",
       " '84_395',\n",
       " '84_397',\n",
       " '85_398',\n",
       " '85_399',\n",
       " '85_400',\n",
       " '85_401',\n",
       " '86_402',\n",
       " '86_403',\n",
       " '86_407',\n",
       " '86_411',\n",
       " '87_412',\n",
       " '87_413',\n",
       " '87_414',\n",
       " '87_415',\n",
       " '87_417',\n",
       " '87_418',\n",
       " '88_419',\n",
       " '88_420',\n",
       " '89_423',\n",
       " '89_424',\n",
       " '89_426',\n",
       " '90_432',\n",
       " '91_433',\n",
       " '91_434',\n",
       " '92_435',\n",
       " '93_437',\n",
       " '93_438',\n",
       " '93_439',\n",
       " '93_440',\n",
       " '93_442',\n",
       " '94_444',\n",
       " '95_445',\n",
       " '95_446',\n",
       " '96_452',\n",
       " '97_453',\n",
       " '97_454',\n",
       " '97_455',\n",
       " '97_456',\n",
       " '97_457',\n",
       " '97_459',\n",
       " '98_460',\n",
       " '98_461',\n",
       " '98_462',\n",
       " '98_463',\n",
       " '99_464',\n",
       " '99_465',\n",
       " '100_466',\n",
       " '100_467',\n",
       " '100_468',\n",
       " '100_469',\n",
       " '101_470',\n",
       " '101_471',\n",
       " '101_472',\n",
       " '101_473',\n",
       " '101_474',\n",
       " '101_475',\n",
       " '102_476',\n",
       " '102_477',\n",
       " '102_478',\n",
       " '103_479',\n",
       " '103_480',\n",
       " '104_481',\n",
       " '104_484',\n",
       " '104_485',\n",
       " '105_486',\n",
       " '105_487',\n",
       " '106_488',\n",
       " '106_489',\n",
       " '107_490',\n",
       " '107_491',\n",
       " '108_492',\n",
       " '108_496',\n",
       " '109_497',\n",
       " '109_498',\n",
       " '109_499',\n",
       " '109_500',\n",
       " '109_501',\n",
       " '110_503',\n",
       " '110_504',\n",
       " '111_505',\n",
       " '111_506',\n",
       " '112_507',\n",
       " '112_508',\n",
       " '113_509',\n",
       " '113_510',\n",
       " '114_511',\n",
       " '115_512',\n",
       " '115_513',\n",
       " '115_514',\n",
       " '115_515',\n",
       " '115_517',\n",
       " '115_518',\n",
       " '115_519',\n",
       " '115_522',\n",
       " '115_524',\n",
       " '115_528',\n",
       " '115_529',\n",
       " '115_530',\n",
       " '116_531',\n",
       " '117_533',\n",
       " '117_534',\n",
       " '118_537',\n",
       " '119_538',\n",
       " '119_542',\n",
       " '120_543',\n",
       " '120_544',\n",
       " '120_545',\n",
       " '120_546',\n",
       " '120_547',\n",
       " '120_549',\n",
       " '120_551',\n",
       " '121_556',\n",
       " '122_558',\n",
       " '122_559',\n",
       " '122_560',\n",
       " '122_561',\n",
       " '123_564',\n",
       " '123_565',\n",
       " '124_605',\n",
       " '124_607',\n",
       " '124_608',\n",
       " '124_609',\n",
       " '124_610',\n",
       " '124_612',\n",
       " '125_617',\n",
       " '125_619',\n",
       " '125_620',\n",
       " '125_621',\n",
       " '125_622',\n",
       " '125_623',\n",
       " '125_624',\n",
       " '125_625',\n",
       " '125_626',\n",
       " '125_627',\n",
       " '125_628',\n",
       " '125_629',\n",
       " '125_631',\n",
       " '125_632',\n",
       " '126_637',\n",
       " '126_638',\n",
       " '126_639',\n",
       " '126_640',\n",
       " '126_641',\n",
       " '126_642',\n",
       " '126_643',\n",
       " '127_644',\n",
       " '127_645',\n",
       " '127_646',\n",
       " '127_647',\n",
       " '128_648',\n",
       " '128_649',\n",
       " '128_650',\n",
       " '128_651',\n",
       " '128_652',\n",
       " '128_653',\n",
       " '128_654',\n",
       " '128_656',\n",
       " '128_658',\n",
       " '128_659',\n",
       " '128_660',\n",
       " '128_661',\n",
       " '129_663',\n",
       " '129_664',\n",
       " '129_668',\n",
       " '129_673',\n",
       " '130_675',\n",
       " '131_679',\n",
       " '131_680',\n",
       " '131_681',\n",
       " '131_682',\n",
       " '131_683',\n",
       " '131_685',\n",
       " '131_686',\n",
       " '131_687',\n",
       " '131_691',\n",
       " '131_692',\n",
       " '131_693',\n",
       " '131_696',\n",
       " '131_698',\n",
       " '131_699',\n",
       " '132_700',\n",
       " '132_701',\n",
       " '132_702',\n",
       " '133_703',\n",
       " '133_704',\n",
       " '133_705',\n",
       " '134_708',\n",
       " '134_709',\n",
       " '134_710',\n",
       " '134_711',\n",
       " '134_712',\n",
       " '134_713',\n",
       " '134_714',\n",
       " '134_715',\n",
       " '134_716',\n",
       " '134_719',\n",
       " '134_720',\n",
       " '134_722',\n",
       " '134_723',\n",
       " '134_724',\n",
       " '134_726',\n",
       " '134_728',\n",
       " '135_731',\n",
       " '135_732',\n",
       " '135_733',\n",
       " '135_734',\n",
       " '136_735',\n",
       " '136_736',\n",
       " '137_743',\n",
       " '137_744',\n",
       " '137_745',\n",
       " '138_747',\n",
       " '139_749',\n",
       " '140_750',\n",
       " '140_751',\n",
       " '141_752',\n",
       " '141_753',\n",
       " '141_754',\n",
       " '141_755',\n",
       " '141_762',\n",
       " '142_763',\n",
       " '143_765',\n",
       " '143_766',\n",
       " '143_767',\n",
       " '143_768',\n",
       " '143_769',\n",
       " '144_773',\n",
       " '145_774',\n",
       " '145_775',\n",
       " '145_776',\n",
       " '146_777',\n",
       " '146_778',\n",
       " '146_779',\n",
       " '147_781',\n",
       " '147_782',\n",
       " '147_783',\n",
       " '147_784',\n",
       " '148_785',\n",
       " '148_786',\n",
       " '148_787',\n",
       " '149_791',\n",
       " '149_792',\n",
       " '149_793',\n",
       " '150_794',\n",
       " '150_795']"
      ]
     },
     "execution_count": 13,
     "metadata": {},
     "output_type": "execute_result"
    }
   ],
   "source": [
    "keys"
   ]
  },
  {
   "cell_type": "code",
   "execution_count": null,
   "metadata": {},
   "outputs": [],
   "source": []
  }
 ],
 "metadata": {
  "kernelspec": {
   "display_name": "mmlab",
   "language": "python",
   "name": "python3"
  },
  "language_info": {
   "codemirror_mode": {
    "name": "ipython",
    "version": 3
   },
   "file_extension": ".py",
   "mimetype": "text/x-python",
   "name": "python",
   "nbconvert_exporter": "python",
   "pygments_lexer": "ipython3",
   "version": "3.8.5"
  },
  "orig_nbformat": 4
 },
 "nbformat": 4,
 "nbformat_minor": 2
}
